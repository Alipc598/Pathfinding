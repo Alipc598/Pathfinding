{
  "nbformat": 4,
  "nbformat_minor": 0,
  "metadata": {
    "colab": {
      "provenance": [],
      "collapsed_sections": [
        "yNGrqOb1fljR",
        "uwf7_igV8PYN",
        "UazASq4saPLf",
        "NmBKJ0OCfbud"
      ]
    },
    "kernelspec": {
      "name": "python3",
      "display_name": "Python 3"
    },
    "language_info": {
      "name": "python"
    }
  },
  "cells": [
    {
      "cell_type": "markdown",
      "source": [
        "# Setting Up the Environment and Implementing the A Algorithm"
      ],
      "metadata": {
        "id": "yNGrqOb1fljR"
      }
    },
    {
      "cell_type": "code",
      "execution_count": 142,
      "metadata": {
        "colab": {
          "base_uri": "https://localhost:8080/"
        },
        "id": "B8QiujobZjRY",
        "outputId": "e5a1f64f-aede-4105-ec91-81fe07813f25"
      },
      "outputs": [
        {
          "output_type": "stream",
          "name": "stdout",
          "text": [
            "Requirement already satisfied: numpy in /usr/local/lib/python3.10/dist-packages (1.23.5)\n",
            "Requirement already satisfied: matplotlib in /usr/local/lib/python3.10/dist-packages (3.7.1)\n",
            "Requirement already satisfied: contourpy>=1.0.1 in /usr/local/lib/python3.10/dist-packages (from matplotlib) (1.2.0)\n",
            "Requirement already satisfied: cycler>=0.10 in /usr/local/lib/python3.10/dist-packages (from matplotlib) (0.12.1)\n",
            "Requirement already satisfied: fonttools>=4.22.0 in /usr/local/lib/python3.10/dist-packages (from matplotlib) (4.47.2)\n",
            "Requirement already satisfied: kiwisolver>=1.0.1 in /usr/local/lib/python3.10/dist-packages (from matplotlib) (1.4.5)\n",
            "Requirement already satisfied: packaging>=20.0 in /usr/local/lib/python3.10/dist-packages (from matplotlib) (23.2)\n",
            "Requirement already satisfied: pillow>=6.2.0 in /usr/local/lib/python3.10/dist-packages (from matplotlib) (9.4.0)\n",
            "Requirement already satisfied: pyparsing>=2.3.1 in /usr/local/lib/python3.10/dist-packages (from matplotlib) (3.1.1)\n",
            "Requirement already satisfied: python-dateutil>=2.7 in /usr/local/lib/python3.10/dist-packages (from matplotlib) (2.8.2)\n",
            "Requirement already satisfied: six>=1.5 in /usr/local/lib/python3.10/dist-packages (from python-dateutil>=2.7->matplotlib) (1.16.0)\n"
          ]
        }
      ],
      "source": [
        "!pip install numpy matplotlib"
      ]
    },
    {
      "cell_type": "code",
      "source": [
        "import numpy as np\n",
        "import matplotlib.pyplot as plt\n",
        "import time"
      ],
      "metadata": {
        "id": "a4yXcixtahO2"
      },
      "execution_count": 143,
      "outputs": []
    },
    {
      "cell_type": "code",
      "source": [
        "def plot_path(grid, path, start, goal):\n",
        "    plt.imshow(grid, cmap='Greys', interpolation='nearest')\n",
        "    if path:\n",
        "        ys, xs = zip(*path)\n",
        "        plt.scatter(xs, ys, c='blue')\n",
        "    plt.scatter(start[1], start[0], c='green', marker='o') # start in green\n",
        "    plt.scatter(goal[1], goal[0], c='red', marker='o') # goal in red\n",
        "    plt.grid()\n",
        "    plt.show()"
      ],
      "metadata": {
        "id": "1UoiBIMGBES4"
      },
      "execution_count": 169,
      "outputs": []
    },
    {
      "cell_type": "code",
      "source": [
        "grid = np.array([\n",
        "    [0, 0, 0, 0, 1],\n",
        "    [0, 1, 0, 0, 1],\n",
        "    [0, 1, 0, 1, 0],\n",
        "    [0, 0, 0, 0, 0],\n",
        "    [0, 1, 1, 1, 0]\n",
        "])\n"
      ],
      "metadata": {
        "id": "NC6Z831p37rS"
      },
      "execution_count": 145,
      "outputs": []
    },
    {
      "cell_type": "code",
      "source": [
        "def heuristic(a, b):\n",
        "    return np.abs(a[0] - b[0]) + np.abs(a[1] - b[1])\n"
      ],
      "metadata": {
        "id": "XMyat8o33880"
      },
      "execution_count": 146,
      "outputs": []
    },
    {
      "cell_type": "code",
      "source": [
        "def get_neighbors(pos):\n",
        "    neighbors = []\n",
        "    for dx, dy in [(-1, 0), (1, 0), (0, -1), (0, 1)]:  # Adjacent cells\n",
        "        x2, y2 = pos[0] + dx, pos[1] + dy\n",
        "        if 0 <= x2 < grid.shape[0] and 0 <= y2 < grid.shape[1]:\n",
        "            if grid[x2][y2] == 0:\n",
        "                neighbors.append((x2, y2))\n",
        "    return neighbors\n"
      ],
      "metadata": {
        "id": "SGpkX8Fh4CbW"
      },
      "execution_count": 147,
      "outputs": []
    },
    {
      "cell_type": "code",
      "source": [
        "def astar(start, goal):\n",
        "    start_time = time.time()\n",
        "    nodes_explored = 0\n",
        "\n",
        "    open_set = set([start])\n",
        "    closed_set = set()\n",
        "\n",
        "    came_from = {}\n",
        "\n",
        "    g_score = {node: float('inf') for row in grid for node in row}\n",
        "    g_score[start] = 0\n",
        "\n",
        "    f_score = {node: float('inf') for row in grid for node in row}\n",
        "    f_score[start] = heuristic(start, goal)\n",
        "\n",
        "    while open_set:\n",
        "        current = min(open_set, key=lambda x: f_score[x])\n",
        "        if current == goal:\n",
        "            path = []\n",
        "            while current in came_from:\n",
        "                path.append(current)\n",
        "                current = came_from[current]\n",
        "            end_time = time.time()\n",
        "            execution_time = end_time - start_time\n",
        "            return path[::-1], nodes_explored, execution_time\n",
        "\n",
        "        open_set.remove(current)\n",
        "        closed_set.add(current)\n",
        "        nodes_explored += 1\n",
        "\n",
        "        for neighbor in get_neighbors(current):\n",
        "            if neighbor in closed_set:\n",
        "                continue\n",
        "            tentative_g_score = g_score[current] + 1\n",
        "\n",
        "            if neighbor not in open_set:\n",
        "                open_set.add(neighbor)\n",
        "            elif tentative_g_score >= g_score[neighbor]:\n",
        "                continue\n",
        "\n",
        "            came_from[neighbor] = current\n",
        "            g_score[neighbor] = tentative_g_score\n",
        "            f_score[neighbor] = g_score[neighbor] + heuristic(neighbor, goal)\n",
        "\n",
        "    end_time = time.time()\n",
        "    execution_time = end_time - start_time\n",
        "    return [], nodes_explored, execution_time\n"
      ],
      "metadata": {
        "id": "zJFQyCQk4FLq"
      },
      "execution_count": 148,
      "outputs": []
    },
    {
      "cell_type": "code",
      "source": [
        "start = (0, 0)\n",
        "goal = (3, 3)\n",
        "path, nodes_explored, execution_time = astar_modified(start, goal)\n",
        "print(\"Path:\", path)\n",
        "print(\"Nodes Explored:\", nodes_explored)\n",
        "print(\"Execution Time:\", execution_time)\n",
        "plot_path(grid, path, start, goal)\n"
      ],
      "metadata": {
        "colab": {
          "base_uri": "https://localhost:8080/",
          "height": 483
        },
        "id": "rqvg0aq_4IVS",
        "outputId": "e40d3c09-cf39-4be0-a2d2-fc6dfbb9096e"
      },
      "execution_count": 149,
      "outputs": [
        {
          "output_type": "stream",
          "name": "stdout",
          "text": [
            "Path: [(0, 1), (0, 2), (1, 2), (2, 2), (3, 2), (3, 3)]\n",
            "Nodes Explored: 11\n",
            "Execution Time: 0.0002703666687011719\n"
          ]
        },
        {
          "output_type": "display_data",
          "data": {
            "text/plain": [
              "<Figure size 640x480 with 1 Axes>"
            ],
            "image/png": "[encoded data removed]"
          },
          "metadata": {}
        }
      ]
    },
    {
      "cell_type": "markdown",
      "source": [
        "# **Testing the Algorithm by Running it Through Different Scenarios**\n",
        "\n",
        "*Changing Goal Point:*"
      ],
      "metadata": {
        "id": "uwf7_igV8PYN"
      }
    },
    {
      "cell_type": "code",
      "source": [
        "start = (0, 0)\n",
        "goal = (4, 4)\n",
        "path, nodes_explored, execution_time = astar_modified(start, goal)\n",
        "print(\"Path:\", path)\n",
        "print(\"Nodes Explored:\", nodes_explored)\n",
        "print(\"Execution Time:\", execution_time)\n",
        "plot_path(grid, path, start, goal)"
      ],
      "metadata": {
        "colab": {
          "base_uri": "https://localhost:8080/",
          "height": 483
        },
        "id": "LweJXner8TPa",
        "outputId": "6cbd0979-aa65-44a2-b403-8690cd64f62a"
      },
      "execution_count": 150,
      "outputs": [
        {
          "output_type": "stream",
          "name": "stdout",
          "text": [
            "Path: [(0, 1), (0, 2), (1, 2), (2, 2), (3, 2), (3, 3), (3, 4), (4, 4)]\n",
            "Nodes Explored: 14\n",
            "Execution Time: 0.00030422210693359375\n"
          ]
        },
        {
          "output_type": "display_data",
          "data": {
            "text/plain": [
              "<Figure size 640x480 with 1 Axes>"
            ],
            "image/png": "[encoded data removed]"
          },
          "metadata": {}
        }
      ]
    },
    {
      "cell_type": "markdown",
      "source": [
        "The output shows the path calculated by the A* algorithm to the new goal (4, 4). The algorithm successfully navigates the grid, avoiding obstacles, and finds a path to the goal."
      ],
      "metadata": {
        "id": "aYfqYnSd9tzT"
      }
    },
    {
      "cell_type": "markdown",
      "source": [
        "*Altering the Grid:*"
      ],
      "metadata": {
        "id": "eWIk49219Isa"
      }
    },
    {
      "cell_type": "code",
      "source": [
        "grid = np.array([\n",
        "    [0, 0, 0, 0, 0],\n",
        "    [0, 1, 1, 0, 1],\n",
        "    [0, 1, 0, 0, 0],\n",
        "    [0, 0, 0, 1, 1],\n",
        "    [0, 1, 0, 0, 0]\n",
        "])\n"
      ],
      "metadata": {
        "id": "gUGgKe7H9RdG"
      },
      "execution_count": 151,
      "outputs": []
    },
    {
      "cell_type": "code",
      "source": [
        "start = (0, 0)\n",
        "goal = (4, 4)\n",
        "path, nodes_explored, execution_time = astar_modified(start, goal)\n",
        "print(\"Path:\", path)\n",
        "print(\"Nodes Explored:\", nodes_explored)\n",
        "print(\"Execution Time:\", execution_time)\n",
        "plot_path(grid, path, start, goal)"
      ],
      "metadata": {
        "colab": {
          "base_uri": "https://localhost:8080/",
          "height": 483
        },
        "id": "srvML4zB9kVp",
        "outputId": "cc209d84-310f-4152-9e25-0ee5b91cc56f"
      },
      "execution_count": 152,
      "outputs": [
        {
          "output_type": "stream",
          "name": "stdout",
          "text": [
            "Path: [(1, 0), (2, 0), (3, 0), (3, 1), (3, 2), (4, 2), (4, 3), (4, 4)]\n",
            "Nodes Explored: 16\n",
            "Execution Time: 0.0002880096435546875\n"
          ]
        },
        {
          "output_type": "display_data",
          "data": {
            "text/plain": [
              "<Figure size 640x480 with 1 Axes>"
            ],
            "image/png": "[encoded data removed]"
          },
          "metadata": {}
        }
      ]
    },
    {
      "cell_type": "markdown",
      "source": [
        "The output indicates the algorithm successfully navigating around the newly placed obstacles, finding the best route to the goal."
      ],
      "metadata": {
        "id": "PTKS83SR90E-"
      }
    },
    {
      "cell_type": "markdown",
      "source": [
        "*Start in an Obstacle*"
      ],
      "metadata": {
        "id": "PJC1dk2s-6yS"
      }
    },
    {
      "cell_type": "code",
      "source": [
        "grid = np.array([\n",
        "    [0, 1, 0, 0, 0],\n",
        "    [0, 1, 0, 0, 0],\n",
        "    [0, 1, 0, 0, 0],\n",
        "    [0, 0, 0, 1, 1],\n",
        "    [0, 0, 0, 0, 0]\n",
        "])"
      ],
      "metadata": {
        "id": "48ENYCfp-7_2"
      },
      "execution_count": 153,
      "outputs": []
    },
    {
      "cell_type": "code",
      "source": [
        "start = (0, 1)  # Start in an obstacle\n",
        "goal = (4, 4)\n",
        "path, nodes_explored, execution_time = astar_modified(start, goal)\n",
        "print(\"Path:\", path)\n",
        "print(\"Nodes Explored:\", nodes_explored)\n",
        "print(\"Execution Time:\", execution_time)\n",
        "plot_path(grid, path, start, goal)"
      ],
      "metadata": {
        "colab": {
          "base_uri": "https://localhost:8080/",
          "height": 483
        },
        "id": "GLu7GyCv_C8p",
        "outputId": "864ac8e0-e306-41be-89b7-68f180b034f7"
      },
      "execution_count": 154,
      "outputs": [
        {
          "output_type": "stream",
          "name": "stdout",
          "text": [
            "Path: [(0, 2), (1, 2), (2, 2), (3, 2), (4, 2), (4, 3), (4, 4)]\n",
            "Nodes Explored: 12\n",
            "Execution Time: 0.0002789497375488281\n"
          ]
        },
        {
          "output_type": "display_data",
          "data": {
            "text/plain": [
              "<Figure size 640x480 with 1 Axes>"
            ],
            "image/png": "[encoded data removed]"
          },
          "metadata": {}
        }
      ]
    },
    {
      "cell_type": "markdown",
      "source": [
        "*No Possible Path*"
      ],
      "metadata": {
        "id": "tY3eASSu_mYq"
      }
    },
    {
      "cell_type": "code",
      "source": [
        "grid = np.array([\n",
        "    [0, 0, 0, 0, 0],\n",
        "    [0, 1, 1, 1, 1],\n",
        "    [0, 1, 0, 0, 0],\n",
        "    [0, 1, 0, 0, 0],\n",
        "    [0, 1, 0, 0, 0]\n",
        "])"
      ],
      "metadata": {
        "id": "xTK5S1B1_nWl"
      },
      "execution_count": 170,
      "outputs": []
    },
    {
      "cell_type": "code",
      "source": [
        "start = (0, 0)\n",
        "goal = (4, 4)\n",
        "path, nodes_explored, execution_time = astar_modified(start, goal)\n",
        "print(\"Path:\", path)\n",
        "print(\"Nodes Explored:\", nodes_explored)\n",
        "print(\"Execution Time:\", execution_time)\n",
        "plot_path(grid, path, start, goal)"
      ],
      "metadata": {
        "colab": {
          "base_uri": "https://localhost:8080/",
          "height": 483
        },
        "id": "lYwc8pl7_sYy",
        "outputId": "07f10ea3-65d7-443b-d684-d8426a43a804"
      },
      "execution_count": 173,
      "outputs": [
        {
          "output_type": "stream",
          "name": "stdout",
          "text": [
            "Path: []\n",
            "Nodes Explored: 9\n",
            "Execution Time: 0.0002071857452392578\n"
          ]
        },
        {
          "output_type": "display_data",
          "data": {
            "text/plain": [
              "<Figure size 640x480 with 1 Axes>"
            ],
            "image/png": "[encoded data removed]"
          },
          "metadata": {}
        }
      ]
    },
    {
      "cell_type": "markdown",
      "source": [
        "# Evaluate the performance of the model by comparing it an aletnative algorithm\n",
        "\n",
        "Implementing Branch and Bound Algorithm"
      ],
      "metadata": {
        "id": "UazASq4saPLf"
      }
    },
    {
      "cell_type": "code",
      "source": [
        "def branch_and_bound(start, goal):\n",
        "    start_time = time.time()\n",
        "    nodes_explored = 0\n",
        "\n",
        "    queue = [(start, [start])]\n",
        "    visited = set()\n",
        "\n",
        "    while queue:\n",
        "        (vertex, path) = queue.pop(0)\n",
        "        if vertex in visited:\n",
        "            continue\n",
        "        visited.add(vertex)\n",
        "        nodes_explored += 1\n",
        "\n",
        "        if vertex == goal:\n",
        "            end_time = time.time()\n",
        "            execution_time = end_time - start_time\n",
        "            return path, nodes_explored, execution_time\n",
        "\n",
        "        for next_node in get_neighbors(vertex):\n",
        "            if next_node not in visited:\n",
        "                new_path = list(path)\n",
        "                new_path.append(next_node)\n",
        "                queue.append((next_node, new_path))\n",
        "\n",
        "    end_time = time.time()\n",
        "    execution_time = end_time - start_time\n",
        "    return [], nodes_explored, execution_time"
      ],
      "metadata": {
        "id": "ifaInIwVaWMn"
      },
      "execution_count": 176,
      "outputs": []
    },
    {
      "cell_type": "code",
      "source": [
        "grid = np.array([\n",
        "    [0, 0, 0, 0, 1],\n",
        "    [0, 1, 0, 0, 1],\n",
        "    [0, 1, 0, 1, 0],\n",
        "    [0, 0, 0, 0, 0],\n",
        "    [0, 1, 1, 1, 0]\n",
        "])\n"
      ],
      "metadata": {
        "id": "_agAA3iResyp"
      },
      "execution_count": 177,
      "outputs": []
    },
    {
      "cell_type": "code",
      "source": [
        "def plot_path(grid, path, start, goal, title=\"Path\"):\n",
        "    plt.imshow(grid, cmap='Greys', interpolation='nearest')\n",
        "    if path:\n",
        "        ys, xs = zip(*path)\n",
        "        plt.scatter(xs, ys, c='blue')\n",
        "    plt.scatter(start[1], start[0], c='green', marker='o')  # start in green\n",
        "    plt.scatter(goal[1], goal[0], c='red', marker='o')  # goal in red\n",
        "    plt.title(title)\n",
        "    plt.grid()\n",
        "    plt.show()\n"
      ],
      "metadata": {
        "id": "SAaNZrd2a3s0"
      },
      "execution_count": 178,
      "outputs": []
    },
    {
      "cell_type": "code",
      "source": [
        "start = (0, 0)\n",
        "goal = (3, 3)\n",
        "bb_path, bb_nodes_explored, bb_execution_time = branch_and_bound(start, goal)\n",
        "print(\"Path:\", bb_path)\n",
        "print(\"Nodes Explored:\", bb_nodes_explored)\n",
        "print(\"Execution Time:\", bb_execution_time)\n",
        "plot_path(grid, bb_path, start, goal, title=\"Branch and Bound Path\")"
      ],
      "metadata": {
        "colab": {
          "base_uri": "https://localhost:8080/",
          "height": 505
        },
        "id": "RLEY4Lz2agOf",
        "outputId": "53911e93-cbad-41fe-d9a6-a60f6e9e32ef"
      },
      "execution_count": 179,
      "outputs": [
        {
          "output_type": "stream",
          "name": "stdout",
          "text": [
            "Path: [(0, 0), (1, 0), (2, 0), (3, 0), (3, 1), (3, 2), (3, 3)]\n",
            "Nodes Explored: 14\n",
            "Execution Time: 0.00010156631469726562\n"
          ]
        },
        {
          "output_type": "display_data",
          "data": {
            "text/plain": [
              "<Figure size 640x480 with 1 Axes>"
            ],
            "image/png": "[encoded data removed]"
          },
          "metadata": {}
        }
      ]
    },
    {
      "cell_type": "markdown",
      "source": [
        "# **Benchmark and Testing the Branch-and-Bound algorithm by Running it Through exact same scenrios as we did for A***\n",
        "\n",
        "*Changing Goal Point:*"
      ],
      "metadata": {
        "id": "NmBKJ0OCfbud"
      }
    },
    {
      "cell_type": "code",
      "source": [
        "start = (0, 0)\n",
        "goal = (4, 4)\n",
        "bb_path, bb_nodes_explored, bb_execution_time = branch_and_bound(start, goal)\n",
        "print(\"Path:\", bb_path)\n",
        "print(\"Nodes Explored:\", bb_nodes_explored)\n",
        "print(\"Execution Time:\", bb_execution_time)\n",
        "plot_path(grid, bb_path, start, goal, title=\"Branch and Bound Path\")"
      ],
      "metadata": {
        "colab": {
          "base_uri": "https://localhost:8080/",
          "height": 505
        },
        "id": "S-1ytzqffOzj",
        "outputId": "46b22b23-8461-4e24-e6f8-d9308b341365"
      },
      "execution_count": 180,
      "outputs": [
        {
          "output_type": "stream",
          "name": "stdout",
          "text": [
            "Path: [(0, 0), (1, 0), (2, 0), (3, 0), (3, 1), (3, 2), (3, 3), (3, 4), (4, 4)]\n",
            "Nodes Explored: 17\n",
            "Execution Time: 0.00011897087097167969\n"
          ]
        },
        {
          "output_type": "display_data",
          "data": {
            "text/plain": [
              "<Figure size 640x480 with 1 Axes>"
            ],
            "image/png": "[encoded data removed]"
          },
          "metadata": {}
        }
      ]
    },
    {
      "cell_type": "markdown",
      "source": [
        "*Altering the Grid:*"
      ],
      "metadata": {
        "id": "z2SGXTMVgH5e"
      }
    },
    {
      "cell_type": "code",
      "source": [
        "grid = np.array([\n",
        "    [0, 0, 0, 0, 0],\n",
        "    [0, 1, 1, 0, 1],\n",
        "    [0, 1, 0, 0, 0],\n",
        "    [0, 0, 0, 1, 1],\n",
        "    [0, 1, 0, 0, 0]\n",
        "])"
      ],
      "metadata": {
        "id": "TQJs2lmIgIlr"
      },
      "execution_count": 181,
      "outputs": []
    },
    {
      "cell_type": "code",
      "source": [
        "start = (0, 0)\n",
        "goal = (4, 4)\n",
        "bb_path, bb_nodes_explored, bb_execution_time = branch_and_bound(start, goal)\n",
        "print(\"Path:\", bb_path)\n",
        "print(\"Nodes Explored:\", bb_nodes_explored)\n",
        "print(\"Execution Time:\", bb_execution_time)\n",
        "plot_path(grid, bb_path, start, goal, title=\"Branch and Bound Path\")"
      ],
      "metadata": {
        "colab": {
          "base_uri": "https://localhost:8080/",
          "height": 505
        },
        "id": "hf75EPjngRAh",
        "outputId": "8d869852-4277-4de4-8115-4e3e342d3e72"
      },
      "execution_count": 182,
      "outputs": [
        {
          "output_type": "stream",
          "name": "stdout",
          "text": [
            "Path: [(0, 0), (1, 0), (2, 0), (3, 0), (3, 1), (3, 2), (4, 2), (4, 3), (4, 4)]\n",
            "Nodes Explored: 18\n",
            "Execution Time: 0.000152587890625\n"
          ]
        },
        {
          "output_type": "display_data",
          "data": {
            "text/plain": [
              "<Figure size 640x480 with 1 Axes>"
            ],
            "image/png": "[encoded data removed]"
          },
          "metadata": {}
        }
      ]
    },
    {
      "cell_type": "markdown",
      "source": [
        "*Start in an Obstacle*"
      ],
      "metadata": {
        "id": "1KT-kRmugwcJ"
      }
    },
    {
      "cell_type": "code",
      "source": [
        "grid = np.array([\n",
        "    [0, 1, 0, 0, 0],\n",
        "    [0, 1, 0, 0, 0],\n",
        "    [0, 1, 0, 0, 0],\n",
        "    [0, 0, 0, 1, 1],\n",
        "    [0, 0, 0, 0, 0]\n",
        "])"
      ],
      "metadata": {
        "id": "5E9Kd_xlg_HB"
      },
      "execution_count": 183,
      "outputs": []
    },
    {
      "cell_type": "code",
      "source": [
        "start = (0, 1)  # Start in an obstacle\n",
        "goal = (4, 4)\n",
        "bb_path, bb_nodes_explored, bb_execution_time = branch_and_bound(start, goal)\n",
        "print(\"Path:\", bb_path)\n",
        "print(\"Nodes Explored:\", bb_nodes_explored)\n",
        "print(\"Execution Time:\", bb_execution_time)\n",
        "plot_path(grid, bb_path, start, goal, title=\"Branch and Bound Path\")"
      ],
      "metadata": {
        "colab": {
          "base_uri": "https://localhost:8080/",
          "height": 505
        },
        "id": "EP1Leo3XhG_n",
        "outputId": "d56d0cf1-34aa-4248-cc8e-1604a2604af9"
      },
      "execution_count": 184,
      "outputs": [
        {
          "output_type": "stream",
          "name": "stdout",
          "text": [
            "Path: [(0, 1), (0, 2), (1, 2), (2, 2), (3, 2), (4, 2), (4, 3), (4, 4)]\n",
            "Nodes Explored: 21\n",
            "Execution Time: 0.00013756752014160156\n"
          ]
        },
        {
          "output_type": "display_data",
          "data": {
            "text/plain": [
              "<Figure size 640x480 with 1 Axes>"
            ],
            "image/png": "[encoded data removed]"
          },
          "metadata": {}
        }
      ]
    },
    {
      "cell_type": "markdown",
      "source": [
        "*No Possible Path*"
      ],
      "metadata": {
        "id": "k8zVjQn9iasD"
      }
    },
    {
      "cell_type": "code",
      "source": [
        "grid = np.array([\n",
        "    [0, 0, 0, 0, 0],\n",
        "    [0, 1, 1, 1, 1],\n",
        "    [0, 1, 0, 0, 0],\n",
        "    [0, 1, 0, 0, 0],\n",
        "    [0, 1, 0, 0, 0]\n",
        "])"
      ],
      "metadata": {
        "id": "Vp52fh-JibKf"
      },
      "execution_count": 185,
      "outputs": []
    },
    {
      "cell_type": "code",
      "source": [
        "start = (0, 0)\n",
        "goal = (4, 4)\n",
        "bb_path, bb_nodes_explored, bb_execution_time = branch_and_bound(start, goal)\n",
        "print(\"Path:\", bb_path)\n",
        "print(\"Nodes Explored:\", bb_nodes_explored)\n",
        "print(\"Execution Time:\", bb_execution_time)\n",
        "plot_path(grid, bb_path, start, goal, title=\"Branch and Bound Path\")"
      ],
      "metadata": {
        "colab": {
          "base_uri": "https://localhost:8080/",
          "height": 505
        },
        "id": "cDCfyBdBipEN",
        "outputId": "e888add3-28af-48dd-ab68-7a43aea89868"
      },
      "execution_count": 186,
      "outputs": [
        {
          "output_type": "stream",
          "name": "stdout",
          "text": [
            "Path: []\n",
            "Nodes Explored: 9\n",
            "Execution Time: 6.937980651855469e-05\n"
          ]
        },
        {
          "output_type": "display_data",
          "data": {
            "text/plain": [
              "<Figure size 640x480 with 1 Axes>"
            ],
            "image/png": "[encoded data removed]"
          },
          "metadata": {}
        }
      ]
    }
  ]
}