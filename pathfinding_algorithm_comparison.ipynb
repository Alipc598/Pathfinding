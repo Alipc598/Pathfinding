{
  "nbformat": 4,
  "nbformat_minor": 0,
  "metadata": {
    "colab": {
      "provenance": []
    },
    "kernelspec": {
      "name": "python3",
      "display_name": "Python 3"
    },
    "language_info": {
      "name": "python"
    }
  },
  "cells": [
    {
      "cell_type": "markdown",
      "source": [
        "# Setting Up the Environment and Implementing the A* Algorithm"
      ],
      "metadata": {
        "id": "yNGrqOb1fljR"
      }
    },
    {
      "cell_type": "code",
      "execution_count": 221,
      "metadata": {
        "colab": {
          "base_uri": "https://localhost:8080/"
        },
        "id": "B8QiujobZjRY",
        "outputId": "3bb22ad3-1df0-4325-eb67-1d7bd738f2db"
      },
      "outputs": [
        {
          "output_type": "stream",
          "name": "stdout",
          "text": [
            "Requirement already satisfied: numpy in /usr/local/lib/python3.10/dist-packages (1.23.5)\n",
            "Requirement already satisfied: matplotlib in /usr/local/lib/python3.10/dist-packages (3.7.1)\n",
            "Requirement already satisfied: contourpy>=1.0.1 in /usr/local/lib/python3.10/dist-packages (from matplotlib) (1.2.0)\n",
            "Requirement already satisfied: cycler>=0.10 in /usr/local/lib/python3.10/dist-packages (from matplotlib) (0.12.1)\n",
            "Requirement already satisfied: fonttools>=4.22.0 in /usr/local/lib/python3.10/dist-packages (from matplotlib) (4.47.2)\n",
            "Requirement already satisfied: kiwisolver>=1.0.1 in /usr/local/lib/python3.10/dist-packages (from matplotlib) (1.4.5)\n",
            "Requirement already satisfied: packaging>=20.0 in /usr/local/lib/python3.10/dist-packages (from matplotlib) (23.2)\n",
            "Requirement already satisfied: pillow>=6.2.0 in /usr/local/lib/python3.10/dist-packages (from matplotlib) (9.4.0)\n",
            "Requirement already satisfied: pyparsing>=2.3.1 in /usr/local/lib/python3.10/dist-packages (from matplotlib) (3.1.1)\n",
            "Requirement already satisfied: python-dateutil>=2.7 in /usr/local/lib/python3.10/dist-packages (from matplotlib) (2.8.2)\n",
            "Requirement already satisfied: six>=1.5 in /usr/local/lib/python3.10/dist-packages (from python-dateutil>=2.7->matplotlib) (1.16.0)\n"
          ]
        }
      ],
      "source": [
        "!pip install numpy matplotlib"
      ]
    },
    {
      "cell_type": "code",
      "source": [
        "import numpy as np\n",
        "import matplotlib.pyplot as plt\n",
        "import time"
      ],
      "metadata": {
        "id": "a4yXcixtahO2"
      },
      "execution_count": 222,
      "outputs": []
    },
    {
      "cell_type": "code",
      "source": [
        "def plot_path(grid, path, start, goal, title=\"Path\"):\n",
        "    plt.imshow(grid, cmap='Greys', interpolation='nearest')\n",
        "    if path:\n",
        "        ys, xs = zip(*path)\n",
        "        plt.scatter(xs, ys, c='blue')\n",
        "    plt.scatter(start[1], start[0], c='green', marker='o')  # start in green\n",
        "    plt.scatter(goal[1], goal[0], c='red', marker='o')  # goal in red\n",
        "    plt.title(title)\n",
        "    plt.grid()\n",
        "    plt.show()"
      ],
      "metadata": {
        "id": "1UoiBIMGBES4"
      },
      "execution_count": 223,
      "outputs": []
    },
    {
      "cell_type": "code",
      "source": [
        "grid = np.array([\n",
        "    [0, 0, 0, 0, 1],\n",
        "    [0, 1, 0, 0, 1],\n",
        "    [0, 1, 0, 1, 0],\n",
        "    [0, 0, 0, 0, 0],\n",
        "    [0, 1, 1, 1, 0]\n",
        "])\n"
      ],
      "metadata": {
        "id": "NC6Z831p37rS"
      },
      "execution_count": 224,
      "outputs": []
    },
    {
      "cell_type": "code",
      "source": [
        "def heuristic(a, b):\n",
        "    return np.abs(a[0] - b[0]) + np.abs(a[1] - b[1])\n"
      ],
      "metadata": {
        "id": "XMyat8o33880"
      },
      "execution_count": 225,
      "outputs": []
    },
    {
      "cell_type": "code",
      "source": [
        "def get_neighbors(pos):\n",
        "    neighbors = []\n",
        "    for dx, dy in [(-1, 0), (1, 0), (0, -1), (0, 1)]:  # Adjacent cells\n",
        "        x2, y2 = pos[0] + dx, pos[1] + dy\n",
        "        if 0 <= x2 < grid.shape[0] and 0 <= y2 < grid.shape[1]:\n",
        "            if grid[x2][y2] == 0:\n",
        "                neighbors.append((x2, y2))\n",
        "    return neighbors\n"
      ],
      "metadata": {
        "id": "SGpkX8Fh4CbW"
      },
      "execution_count": 226,
      "outputs": []
    },
    {
      "cell_type": "code",
      "source": [
        "def astar(start, goal):\n",
        "    start_time = time.time()\n",
        "    nodes_explored = 0\n",
        "\n",
        "    open_set = set([start])\n",
        "    closed_set = set()\n",
        "\n",
        "    came_from = {}\n",
        "\n",
        "    g_score = {node: float('inf') for row in grid for node in row}\n",
        "    g_score[start] = 0\n",
        "\n",
        "    f_score = {node: float('inf') for row in grid for node in row}\n",
        "    f_score[start] = heuristic(start, goal)\n",
        "\n",
        "    while open_set:\n",
        "        current = min(open_set, key=lambda x: f_score[x])\n",
        "        if current == goal:\n",
        "            path = []\n",
        "            while current in came_from:\n",
        "                path.append(current)\n",
        "                current = came_from[current]\n",
        "            end_time = time.time()\n",
        "            execution_time = end_time - start_time\n",
        "            return path[::-1], nodes_explored, execution_time\n",
        "\n",
        "        open_set.remove(current)\n",
        "        closed_set.add(current)\n",
        "        nodes_explored += 1\n",
        "\n",
        "        for neighbor in get_neighbors(current):\n",
        "            if neighbor in closed_set:\n",
        "                continue\n",
        "            tentative_g_score = g_score[current] + 1\n",
        "\n",
        "            if neighbor not in open_set:\n",
        "                open_set.add(neighbor)\n",
        "            elif tentative_g_score >= g_score[neighbor]:\n",
        "                continue\n",
        "\n",
        "            came_from[neighbor] = current\n",
        "            g_score[neighbor] = tentative_g_score\n",
        "            f_score[neighbor] = g_score[neighbor] + heuristic(neighbor, goal)\n",
        "\n",
        "    end_time = time.time()\n",
        "    execution_time = end_time - start_time\n",
        "    return [], nodes_explored, execution_time\n"
      ],
      "metadata": {
        "id": "zJFQyCQk4FLq"
      },
      "execution_count": 227,
      "outputs": []
    },
    {
      "cell_type": "code",
      "source": [
        "start = (0, 0)\n",
        "goal = (3, 3)\n",
        "path, nodes_explored, execution_time = astar(start, goal)\n",
        "print(\"Path:\", path)\n",
        "print(\"Nodes Explored:\", nodes_explored)\n",
        "print(\"Execution Time:\", execution_time)\n",
        "plot_path(grid, path, start, goal, title=\"A* Path\")\n"
      ],
      "metadata": {
        "colab": {
          "base_uri": "https://localhost:8080/",
          "height": 505
        },
        "id": "rqvg0aq_4IVS",
        "outputId": "190b2acc-434c-4d78-9cb1-99abc19eeb35"
      },
      "execution_count": 247,
      "outputs": [
        {
          "output_type": "stream",
          "name": "stdout",
          "text": [
            "Path: []\n",
            "Nodes Explored: 9\n",
            "Execution Time: 0.0002071857452392578\n"
          ]
        },
        {
          "output_type": "display_data",
          "data": {
            "text/plain": [
              "<Figure size 640x480 with 1 Axes>"
            ],
            "image/png": "[encoded data removed]"
          },
          "metadata": {}
        }
      ]
    },
    {
      "cell_type": "markdown",
      "source": [
        "# **Testing the Algorithm by Running it Through Different Scenarios**\n",
        "\n",
        "*Changing Goal Point:*"
      ],
      "metadata": {
        "id": "uwf7_igV8PYN"
      }
    },
    {
      "cell_type": "code",
      "source": [
        "start = (0, 0)\n",
        "goal = (4, 4)\n",
        "path, nodes_explored, execution_time = astar(start, goal)\n",
        "print(\"Path:\", path)\n",
        "print(\"Nodes Explored:\", nodes_explored)\n",
        "print(\"Execution Time:\", execution_time)\n",
        "plot_path(grid, path, start, goal, title=\"A* Path\")"
      ],
      "metadata": {
        "colab": {
          "base_uri": "https://localhost:8080/",
          "height": 505
        },
        "id": "LweJXner8TPa",
        "outputId": "22a24707-6c50-4ada-cfe2-f39b2fe0f850"
      },
      "execution_count": 229,
      "outputs": [
        {
          "output_type": "stream",
          "name": "stdout",
          "text": [
            "Path: [(0, 1), (0, 2), (1, 2), (2, 2), (3, 2), (3, 3), (3, 4), (4, 4)]\n",
            "Nodes Explored: 14\n",
            "Execution Time: 0.0002815723419189453\n"
          ]
        },
        {
          "output_type": "display_data",
          "data": {
            "text/plain": [
              "<Figure size 640x480 with 1 Axes>"
            ],
            "image/png": "[encoded data removed]"
          },
          "metadata": {}
        }
      ]
    },
    {
      "cell_type": "markdown",
      "source": [
        "*Altering the Grid:*"
      ],
      "metadata": {
        "id": "eWIk49219Isa"
      }
    },
    {
      "cell_type": "code",
      "source": [
        "grid = np.array([\n",
        "    [0, 0, 0, 0, 0],\n",
        "    [0, 1, 1, 0, 1],\n",
        "    [0, 1, 0, 0, 0],\n",
        "    [0, 0, 0, 1, 1],\n",
        "    [0, 1, 0, 0, 0]\n",
        "])\n"
      ],
      "metadata": {
        "id": "gUGgKe7H9RdG"
      },
      "execution_count": 230,
      "outputs": []
    },
    {
      "cell_type": "code",
      "source": [
        "start = (0, 0)\n",
        "goal = (4, 4)\n",
        "path, nodes_explored, execution_time = astar(start, goal)\n",
        "print(\"Path:\", path)\n",
        "print(\"Nodes Explored:\", nodes_explored)\n",
        "print(\"Execution Time:\", execution_time)\n",
        "plot_path(grid, path, start, goal, title=\"A* Path\")"
      ],
      "metadata": {
        "colab": {
          "base_uri": "https://localhost:8080/",
          "height": 505
        },
        "id": "srvML4zB9kVp",
        "outputId": "e15c51a9-c949-4b3d-e539-8882d72dbef6"
      },
      "execution_count": 231,
      "outputs": [
        {
          "output_type": "stream",
          "name": "stdout",
          "text": [
            "Path: [(1, 0), (2, 0), (3, 0), (3, 1), (3, 2), (4, 2), (4, 3), (4, 4)]\n",
            "Nodes Explored: 16\n",
            "Execution Time: 0.00017690658569335938\n"
          ]
        },
        {
          "output_type": "display_data",
          "data": {
            "text/plain": [
              "<Figure size 640x480 with 1 Axes>"
            ],
            "image/png": "[encoded data removed]"
          },
          "metadata": {}
        }
      ]
    },
    {
      "cell_type": "markdown",
      "source": [
        "*Start in an Obstacle*"
      ],
      "metadata": {
        "id": "PJC1dk2s-6yS"
      }
    },
    {
      "cell_type": "code",
      "source": [
        "grid = np.array([\n",
        "    [0, 1, 0, 0, 0],\n",
        "    [0, 1, 0, 0, 0],\n",
        "    [0, 1, 0, 0, 0],\n",
        "    [0, 0, 0, 1, 1],\n",
        "    [0, 0, 0, 0, 0]\n",
        "])"
      ],
      "metadata": {
        "id": "48ENYCfp-7_2"
      },
      "execution_count": 232,
      "outputs": []
    },
    {
      "cell_type": "code",
      "source": [
        "start = (0, 1)  # Start in an obstacle\n",
        "goal = (4, 4)\n",
        "path, nodes_explored, execution_time = astar(start, goal)\n",
        "print(\"Path:\", path)\n",
        "print(\"Nodes Explored:\", nodes_explored)\n",
        "print(\"Execution Time:\", execution_time)\n",
        "plot_path(grid, path, start, goal, title=\"A* Path\")"
      ],
      "metadata": {
        "colab": {
          "base_uri": "https://localhost:8080/",
          "height": 505
        },
        "id": "GLu7GyCv_C8p",
        "outputId": "58f6dc0f-af7d-4581-8ad0-9b8ffa35d427"
      },
      "execution_count": 233,
      "outputs": [
        {
          "output_type": "stream",
          "name": "stdout",
          "text": [
            "Path: [(0, 2), (1, 2), (2, 2), (3, 2), (4, 2), (4, 3), (4, 4)]\n",
            "Nodes Explored: 12\n",
            "Execution Time: 0.0002753734588623047\n"
          ]
        },
        {
          "output_type": "display_data",
          "data": {
            "text/plain": [
              "<Figure size 640x480 with 1 Axes>"
            ],
            "image/png": "[encoded data removed]"
          },
          "metadata": {}
        }
      ]
    },
    {
      "cell_type": "markdown",
      "source": [
        "*No Possible Path*"
      ],
      "metadata": {
        "id": "tY3eASSu_mYq"
      }
    },
    {
      "cell_type": "code",
      "source": [
        "grid = np.array([\n",
        "    [0, 0, 0, 0, 0],\n",
        "    [0, 1, 1, 1, 1],\n",
        "    [0, 1, 0, 0, 0],\n",
        "    [0, 1, 0, 0, 0],\n",
        "    [0, 1, 0, 0, 0]\n",
        "])"
      ],
      "metadata": {
        "id": "xTK5S1B1_nWl"
      },
      "execution_count": 234,
      "outputs": []
    },
    {
      "cell_type": "code",
      "source": [
        "start = (0, 0)\n",
        "goal = (4, 4)\n",
        "path, nodes_explored, execution_time = astar(start, goal)\n",
        "print(\"Path:\", path)\n",
        "print(\"Nodes Explored:\", nodes_explored)\n",
        "print(\"Execution Time:\", execution_time)\n",
        "plot_path(grid, path, start, goal, title=\"A* Path\")"
      ],
      "metadata": {
        "colab": {
          "base_uri": "https://localhost:8080/",
          "height": 505
        },
        "id": "lYwc8pl7_sYy",
        "outputId": "48adadb3-c340-459b-aeee-2bbcd778ef0f"
      },
      "execution_count": 235,
      "outputs": [
        {
          "output_type": "stream",
          "name": "stdout",
          "text": [
            "Path: []\n",
            "Nodes Explored: 9\n",
            "Execution Time: 0.0002129077911376953\n"
          ]
        },
        {
          "output_type": "display_data",
          "data": {
            "text/plain": [
              "<Figure size 640x480 with 1 Axes>"
            ],
            "image/png": "[encoded data removed]"
          },
          "metadata": {}
        }
      ]
    },
    {
      "cell_type": "markdown",
      "source": [
        "# Evaluate the performance of the model by comparing it an aletnative algorithm\n",
        "\n",
        "Implementing Branch and Bound Algorithm"
      ],
      "metadata": {
        "id": "UazASq4saPLf"
      }
    },
    {
      "cell_type": "code",
      "source": [
        "def branch_and_bound(start, goal):\n",
        "    start_time = time.time()\n",
        "    nodes_explored = 0\n",
        "\n",
        "    queue = [(start, [start])]\n",
        "    visited = set()\n",
        "\n",
        "    while queue:\n",
        "        (vertex, path) = queue.pop(0)\n",
        "        if vertex in visited:\n",
        "            continue\n",
        "        visited.add(vertex)\n",
        "        nodes_explored += 1\n",
        "\n",
        "        if vertex == goal:\n",
        "            end_time = time.time()\n",
        "            execution_time = end_time - start_time\n",
        "            return path, nodes_explored, execution_time\n",
        "\n",
        "        for next_node in get_neighbors(vertex):\n",
        "            if next_node not in visited:\n",
        "                new_path = list(path)\n",
        "                new_path.append(next_node)\n",
        "                queue.append((next_node, new_path))\n",
        "\n",
        "    end_time = time.time()\n",
        "    execution_time = end_time - start_time\n",
        "    return [], nodes_explored, execution_time"
      ],
      "metadata": {
        "id": "ifaInIwVaWMn"
      },
      "execution_count": 236,
      "outputs": []
    },
    {
      "cell_type": "code",
      "source": [
        "grid = np.array([\n",
        "    [0, 0, 0, 0, 1],\n",
        "    [0, 1, 0, 0, 1],\n",
        "    [0, 1, 0, 1, 0],\n",
        "    [0, 0, 0, 0, 0],\n",
        "    [0, 1, 1, 1, 0]\n",
        "])\n"
      ],
      "metadata": {
        "id": "_agAA3iResyp"
      },
      "execution_count": 237,
      "outputs": []
    },
    {
      "cell_type": "code",
      "source": [
        "def plot_path(grid, path, start, goal, title=\"Path\"):\n",
        "    plt.imshow(grid, cmap='Greys', interpolation='nearest')\n",
        "    if path:\n",
        "        ys, xs = zip(*path)\n",
        "        plt.scatter(xs, ys, c='blue')\n",
        "    plt.scatter(start[1], start[0], c='green', marker='o')  # start in green\n",
        "    plt.scatter(goal[1], goal[0], c='red', marker='o')  # goal in red\n",
        "    plt.title(title)\n",
        "    plt.grid()\n",
        "    plt.show()\n"
      ],
      "metadata": {
        "id": "SAaNZrd2a3s0"
      },
      "execution_count": 238,
      "outputs": []
    },
    {
      "cell_type": "code",
      "source": [
        "start = (0, 0)\n",
        "goal = (3, 3)\n",
        "bb_path, bb_nodes_explored, bb_execution_time = branch_and_bound(start, goal)\n",
        "print(\"Path:\", bb_path)\n",
        "print(\"Nodes Explored:\", bb_nodes_explored)\n",
        "print(\"Execution Time:\", bb_execution_time)\n",
        "plot_path(grid, bb_path, start, goal, title=\"Branch and Bound Path\")"
      ],
      "metadata": {
        "colab": {
          "base_uri": "https://localhost:8080/",
          "height": 505
        },
        "id": "RLEY4Lz2agOf",
        "outputId": "b4fccc94-c1da-49a8-977e-23f8521c64b3"
      },
      "execution_count": 239,
      "outputs": [
        {
          "output_type": "stream",
          "name": "stdout",
          "text": [
            "Path: [(0, 0), (1, 0), (2, 0), (3, 0), (3, 1), (3, 2), (3, 3)]\n",
            "Nodes Explored: 14\n",
            "Execution Time: 0.0001304149627685547\n"
          ]
        },
        {
          "output_type": "display_data",
          "data": {
            "text/plain": [
              "<Figure size 640x480 with 1 Axes>"
            ],
            "image/png": "[encoded data removed]"
          },
          "metadata": {}
        }
      ]
    },
    {
      "cell_type": "markdown",
      "source": [
        "# **Benchmark and Testing the Branch-and-Bound algorithm by Running it Through exact same scenrios as we did for A***\n",
        "\n",
        "*Changing Goal Point:*"
      ],
      "metadata": {
        "id": "NmBKJ0OCfbud"
      }
    },
    {
      "cell_type": "code",
      "source": [
        "start = (0, 0)\n",
        "goal = (4, 4)\n",
        "bb_path, bb_nodes_explored, bb_execution_time = branch_and_bound(start, goal)\n",
        "print(\"Path:\", bb_path)\n",
        "print(\"Nodes Explored:\", bb_nodes_explored)\n",
        "print(\"Execution Time:\", bb_execution_time)\n",
        "plot_path(grid, bb_path, start, goal, title=\"Branch and Bound Path\")"
      ],
      "metadata": {
        "colab": {
          "base_uri": "https://localhost:8080/",
          "height": 505
        },
        "id": "S-1ytzqffOzj",
        "outputId": "80bf85a3-a2ff-4b43-9eff-2c4ae4dd20dc"
      },
      "execution_count": 240,
      "outputs": [
        {
          "output_type": "stream",
          "name": "stdout",
          "text": [
            "Path: [(0, 0), (1, 0), (2, 0), (3, 0), (3, 1), (3, 2), (3, 3), (3, 4), (4, 4)]\n",
            "Nodes Explored: 17\n",
            "Execution Time: 0.00011897087097167969\n"
          ]
        },
        {
          "output_type": "display_data",
          "data": {
            "text/plain": [
              "<Figure size 640x480 with 1 Axes>"
            ],
            "image/png": "[encoded data removed]"
          },
          "metadata": {}
        }
      ]
    },
    {
      "cell_type": "markdown",
      "source": [
        "*Altering the Grid:*"
      ],
      "metadata": {
        "id": "z2SGXTMVgH5e"
      }
    },
    {
      "cell_type": "code",
      "source": [
        "grid = np.array([\n",
        "    [0, 0, 0, 0, 0],\n",
        "    [0, 1, 1, 0, 1],\n",
        "    [0, 1, 0, 0, 0],\n",
        "    [0, 0, 0, 1, 1],\n",
        "    [0, 1, 0, 0, 0]\n",
        "])"
      ],
      "metadata": {
        "id": "TQJs2lmIgIlr"
      },
      "execution_count": 241,
      "outputs": []
    },
    {
      "cell_type": "code",
      "source": [
        "start = (0, 0)\n",
        "goal = (4, 4)\n",
        "bb_path, bb_nodes_explored, bb_execution_time = branch_and_bound(start, goal)\n",
        "print(\"Path:\", bb_path)\n",
        "print(\"Nodes Explored:\", bb_nodes_explored)\n",
        "print(\"Execution Time:\", bb_execution_time)\n",
        "plot_path(grid, bb_path, start, goal, title=\"Branch and Bound Path\")"
      ],
      "metadata": {
        "colab": {
          "base_uri": "https://localhost:8080/",
          "height": 505
        },
        "id": "hf75EPjngRAh",
        "outputId": "4aaef097-ab7a-4cef-8837-ac09a7e551c0"
      },
      "execution_count": 242,
      "outputs": [
        {
          "output_type": "stream",
          "name": "stdout",
          "text": [
            "Path: [(0, 0), (1, 0), (2, 0), (3, 0), (3, 1), (3, 2), (4, 2), (4, 3), (4, 4)]\n",
            "Nodes Explored: 18\n",
            "Execution Time: 7.128715515136719e-05\n"
          ]
        },
        {
          "output_type": "display_data",
          "data": {
            "text/plain": [
              "<Figure size 640x480 with 1 Axes>"
            ],
            "image/png": "[encoded data removed]"
          },
          "metadata": {}
        }
      ]
    },
    {
      "cell_type": "markdown",
      "source": [
        "*Start in an Obstacle*"
      ],
      "metadata": {
        "id": "1KT-kRmugwcJ"
      }
    },
    {
      "cell_type": "code",
      "source": [
        "grid = np.array([\n",
        "    [0, 1, 0, 0, 0],\n",
        "    [0, 1, 0, 0, 0],\n",
        "    [0, 1, 0, 0, 0],\n",
        "    [0, 0, 0, 1, 1],\n",
        "    [0, 0, 0, 0, 0]\n",
        "])"
      ],
      "metadata": {
        "id": "5E9Kd_xlg_HB"
      },
      "execution_count": 243,
      "outputs": []
    },
    {
      "cell_type": "code",
      "source": [
        "start = (0, 1)  # Start in an obstacle\n",
        "goal = (4, 4)\n",
        "bb_path, bb_nodes_explored, bb_execution_time = branch_and_bound(start, goal)\n",
        "print(\"Path:\", bb_path)\n",
        "print(\"Nodes Explored:\", bb_nodes_explored)\n",
        "print(\"Execution Time:\", bb_execution_time)\n",
        "plot_path(grid, bb_path, start, goal, title=\"Branch and Bound Path\")"
      ],
      "metadata": {
        "colab": {
          "base_uri": "https://localhost:8080/",
          "height": 505
        },
        "id": "EP1Leo3XhG_n",
        "outputId": "10e1caea-d0b7-4bf4-f88b-705a3b503fb3"
      },
      "execution_count": 244,
      "outputs": [
        {
          "output_type": "stream",
          "name": "stdout",
          "text": [
            "Path: [(0, 1), (0, 2), (1, 2), (2, 2), (3, 2), (4, 2), (4, 3), (4, 4)]\n",
            "Nodes Explored: 21\n",
            "Execution Time: 0.00016736984252929688\n"
          ]
        },
        {
          "output_type": "display_data",
          "data": {
            "text/plain": [
              "<Figure size 640x480 with 1 Axes>"
            ],
            "image/png": "[encoded data removed]"
          },
          "metadata": {}
        }
      ]
    },
    {
      "cell_type": "markdown",
      "source": [
        "*No Possible Path*"
      ],
      "metadata": {
        "id": "k8zVjQn9iasD"
      }
    },
    {
      "cell_type": "code",
      "source": [
        "grid = np.array([\n",
        "    [0, 0, 0, 0, 0],\n",
        "    [0, 1, 1, 1, 1],\n",
        "    [0, 1, 0, 0, 0],\n",
        "    [0, 1, 0, 0, 0],\n",
        "    [0, 1, 0, 0, 0]\n",
        "])"
      ],
      "metadata": {
        "id": "Vp52fh-JibKf"
      },
      "execution_count": 245,
      "outputs": []
    },
    {
      "cell_type": "code",
      "source": [
        "start = (0, 0)\n",
        "goal = (4, 4)\n",
        "bb_path, bb_nodes_explored, bb_execution_time = branch_and_bound(start, goal)\n",
        "print(\"Path:\", bb_path)\n",
        "print(\"Nodes Explored:\", bb_nodes_explored)\n",
        "print(\"Execution Time:\", bb_execution_time)\n",
        "plot_path(grid, bb_path, start, goal, title=\"Branch and Bound Path\")"
      ],
      "metadata": {
        "colab": {
          "base_uri": "https://localhost:8080/",
          "height": 505
        },
        "id": "cDCfyBdBipEN",
        "outputId": "e7745573-3193-44a6-9bfa-47c9e1fe2c55"
      },
      "execution_count": 246,
      "outputs": [
        {
          "output_type": "stream",
          "name": "stdout",
          "text": [
            "Path: []\n",
            "Nodes Explored: 9\n",
            "Execution Time: 7.128715515136719e-05\n"
          ]
        },
        {
          "output_type": "display_data",
          "data": {
            "text/plain": [
              "<Figure size 640x480 with 1 Axes>"
            ],
            "image/png": "[encoded data removed]"
          },
          "metadata": {}
        }
      ]
    }
  ]
}